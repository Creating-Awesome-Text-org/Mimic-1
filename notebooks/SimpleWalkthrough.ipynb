{
 "cells": [
  {
   "cell_type": "code",
   "execution_count": 13,
   "id": "56d31952",
   "metadata": {},
   "outputs": [],
   "source": [
    "import os\n",
    "\n",
    "from langchain.embeddings.openai import OpenAIEmbeddings\n",
    "from langchain.text_splitter import CharacterTextSplitter\n",
    "from langchain.vectorstores import Pinecone\n",
    "from langchain.document_loaders import TextLoader\n",
    "from langchain.document_loaders import DirectoryLoader\n",
    "from langchain.memory import ConversationBufferMemory\n",
    "from langchain.chains import ConversationalRetrievalChain\n",
    "from langchain.llms import OpenAI\n",
    "from langchain.chat_models import ChatOpenAI\n",
    "\n",
    "import pinecone"
   ]
  },
  {
   "cell_type": "markdown",
   "id": "10612b93",
   "metadata": {},
   "source": [
    "## Certifications\n",
    "Please ensure that the below certifications are not uploaded to GitHub"
   ]
  },
  {
   "cell_type": "code",
   "execution_count": 14,
   "id": "8e88f2d3",
   "metadata": {},
   "outputs": [],
   "source": [
    "os.environ['OPENAI_API_KEY'] = 'KEY'\n",
    "os.environ[\"PINECONE_API_KEY\"] = 'KEY'\n",
    "os.environ[\"PINECONE_ENV\"] = 'ENV'"
   ]
  },
  {
   "cell_type": "markdown",
   "id": "766eb47e",
   "metadata": {},
   "source": [
    "## Document Loading\n",
    "Please only load the documents if they have not been previously loaded.\n",
    "If the Index has already been loaded, please skip to the next section: **Similarity Query**"
   ]
  },
  {
   "cell_type": "code",
   "execution_count": 15,
   "id": "25b877cc",
   "metadata": {},
   "outputs": [],
   "source": [
    "def load_documents(file_path: str):\n",
    "    loader = DirectoryLoader(file_path, \n",
    "                             glob=\"**/*.txt\", \n",
    "                             loader_cls=TextLoader, \n",
    "                             show_progress=True)  # Directory uploader for txt documents\n",
    "    documents = loader.load()  # Load documents\n",
    "    return documents"
   ]
  },
  {
   "cell_type": "code",
   "execution_count": 4,
   "id": "1919da51",
   "metadata": {},
   "outputs": [
    {
     "name": "stderr",
     "output_type": "stream",
     "text": [
      "100%|████████████████████████████████████████████████████████████████████████████████████████| 1/1 [00:00<00:00, 1985.00it/s]\n"
     ]
    }
   ],
   "source": [
    "path = \"../kb/\"\n",
    "documents = load_documents(path)"
   ]
  },
  {
   "cell_type": "markdown",
   "id": "e873a4bd",
   "metadata": {},
   "source": [
    "## Split Document Text"
   ]
  },
  {
   "cell_type": "code",
   "execution_count": 5,
   "id": "df62aa36",
   "metadata": {},
   "outputs": [
    {
     "name": "stderr",
     "output_type": "stream",
     "text": [
      "Created a chunk of size 1719, which is longer than the specified 1000\n",
      "Created a chunk of size 1270, which is longer than the specified 1000\n",
      "Created a chunk of size 1094, which is longer than the specified 1000\n",
      "Created a chunk of size 1839, which is longer than the specified 1000\n",
      "Created a chunk of size 1087, which is longer than the specified 1000\n",
      "Created a chunk of size 1015, which is longer than the specified 1000\n",
      "Created a chunk of size 1076, which is longer than the specified 1000\n",
      "Created a chunk of size 1021, which is longer than the specified 1000\n",
      "Created a chunk of size 1051, which is longer than the specified 1000\n",
      "Created a chunk of size 1084, which is longer than the specified 1000\n",
      "Created a chunk of size 1438, which is longer than the specified 1000\n",
      "Created a chunk of size 1041, which is longer than the specified 1000\n",
      "Created a chunk of size 1201, which is longer than the specified 1000\n",
      "Created a chunk of size 1341, which is longer than the specified 1000\n",
      "Created a chunk of size 1113, which is longer than the specified 1000\n"
     ]
    }
   ],
   "source": [
    "text_splitter = CharacterTextSplitter(chunk_size=1000, chunk_overlap=0)\n",
    "docs = text_splitter.split_documents(documents)"
   ]
  },
  {
   "cell_type": "markdown",
   "id": "97589c40",
   "metadata": {},
   "source": [
    "## Embed Chunks into Vector Storage"
   ]
  },
  {
   "cell_type": "code",
   "execution_count": 10,
   "id": "b350b66f",
   "metadata": {},
   "outputs": [],
   "source": [
    "embeddings = OpenAIEmbeddings()"
   ]
  },
  {
   "cell_type": "code",
   "execution_count": 54,
   "id": "58176773",
   "metadata": {},
   "outputs": [],
   "source": [
    "pinecone.init(\n",
    "    api_key=os.getenv(\"PINECONE_API_KEY\"),  # find at app.pinecone.io\n",
    "    environment=os.getenv(\"PINECONE_ENV\"),  # next to api key in console\n",
    ")"
   ]
  },
  {
   "cell_type": "code",
   "execution_count": 55,
   "id": "934b441a",
   "metadata": {},
   "outputs": [],
   "source": [
    "def create_index(index_name: str):\n",
    "    if index_name not in pinecone.list_indexes():\n",
    "        pinecone.create_index(\n",
    "            name=index_name,\n",
    "            metric='cosine',\n",
    "            dimension=1536  \n",
    ")"
   ]
  },
  {
   "cell_type": "code",
   "execution_count": 56,
   "id": "c36bb4c1",
   "metadata": {},
   "outputs": [],
   "source": [
    "index_name = \"flourishing-humanity\"\n",
    "create_index(index_name)"
   ]
  },
  {
   "cell_type": "code",
   "execution_count": 57,
   "id": "74821893",
   "metadata": {},
   "outputs": [],
   "source": [
    "vectordb = Pinecone.from_documents(docs, embeddings, index_name=index_name)"
   ]
  },
  {
   "cell_type": "markdown",
   "id": "8f209be7",
   "metadata": {},
   "source": [
    "## Similarity Query\n",
    "If you have already created the Index, then please continue from here. \n",
    "The following cells aim to perfrom a similarity query within the Vector Database"
   ]
  },
  {
   "cell_type": "code",
   "execution_count": 16,
   "id": "0ddfe949",
   "metadata": {},
   "outputs": [],
   "source": [
    "index_name = \"flourishing-humanity\"\n",
    "embeddings = OpenAIEmbeddings()\n",
    "\n",
    "pinecone.init(\n",
    "    api_key=os.getenv(\"PINECONE_API_KEY\"),  # find at app.pinecone.io\n",
    "    environment=os.getenv(\"PINECONE_ENV\"),  # next to api key in console\n",
    ")\n",
    "\n",
    "vectordb = Pinecone.from_existing_index(index_name, embeddings)"
   ]
  },
  {
   "cell_type": "code",
   "execution_count": 17,
   "id": "a6cfe66d",
   "metadata": {},
   "outputs": [
    {
     "name": "stdout",
     "output_type": "stream",
     "text": [
      "The Character Growth Manifesto is designed for anyone committed to personal growth and self-improvement, regardless of age, background, or current stage in life. Whether you're a student, a professional, a parent, or simply someone seeking to better understand yourself and your potential, this monograph will guide you on your journey to self-discovery. By providing actionable strategies and practical advice, The Character Growth Manifesto empowers readers to build a stronger, more resilient character, enabling them to overcome challenges, achieve their goals, and live a more fulfilling, authentic life.\n"
     ]
    }
   ],
   "source": [
    "query = \"Who is the Character growth Manifesto designed for?\"\n",
    "similar_docs = vectordb.similarity_search(query)\n",
    "print(similar_docs[0].page_content)"
   ]
  },
  {
   "cell_type": "markdown",
   "id": "f2ba575c",
   "metadata": {},
   "source": [
    "## Initialize Chat Memory"
   ]
  },
  {
   "cell_type": "code",
   "execution_count": 18,
   "id": "5a6cc43a",
   "metadata": {},
   "outputs": [],
   "source": [
    "memory = ConversationBufferMemory(memory_key=\"chat_history\", return_messages=True)"
   ]
  },
  {
   "cell_type": "markdown",
   "id": "3781fbd4",
   "metadata": {},
   "source": [
    "## Vector Store in Combination with OpenAI LLM Model\n",
    "Please note this uses a Generative LLM model. \n",
    "Additional steps in ... notebook will make use of a Chat LLM model. "
   ]
  },
  {
   "cell_type": "code",
   "execution_count": 19,
   "id": "bb28bfae",
   "metadata": {},
   "outputs": [],
   "source": [
    "llm = ChatOpenAI(model_name=\"gpt-3.5-turbo\", temperature=0)"
   ]
  },
  {
   "cell_type": "code",
   "execution_count": 20,
   "id": "e3b45707",
   "metadata": {},
   "outputs": [],
   "source": [
    "qa = ConversationalRetrievalChain.from_llm(llm, retriever=vectordb.as_retriever(), memory=memory)"
   ]
  },
  {
   "cell_type": "code",
   "execution_count": 21,
   "id": "9fc45ebe",
   "metadata": {},
   "outputs": [],
   "source": [
    "query = \"What is the Character Growth manifesto?\"\n",
    "result = qa({\"question\": query})"
   ]
  },
  {
   "cell_type": "code",
   "execution_count": 22,
   "id": "8927c44a",
   "metadata": {},
   "outputs": [
    {
     "data": {
      "text/plain": [
       "'The Character Growth Manifesto is a comprehensive manual and guide to personal growth and self-improvement. It is designed for anyone who is committed to improving themselves and their impact on the world. The manifesto offers practical advice, actionable steps, and evidence-based strategies to help individuals develop a stronger, more resilient character. By following the principles outlined in the manifesto, readers can embark on a transformative journey towards self-discovery, personal growth, and lasting success.'"
      ]
     },
     "execution_count": 22,
     "metadata": {},
     "output_type": "execute_result"
    }
   ],
   "source": [
    "result[\"answer\"]"
   ]
  },
  {
   "cell_type": "markdown",
   "id": "e60ea457",
   "metadata": {},
   "source": [
    "Applying chat memory."
   ]
  },
  {
   "cell_type": "code",
   "execution_count": 23,
   "id": "bb6d4528",
   "metadata": {},
   "outputs": [],
   "source": [
    "query = \"What is the name of the manual to lead a more fulfilling, authentic life?\"\n",
    "result = qa({\"question\": query})"
   ]
  },
  {
   "cell_type": "code",
   "execution_count": 24,
   "id": "861f8588",
   "metadata": {},
   "outputs": [
    {
     "data": {
      "text/plain": [
       "'The name of the manual is \"The Character Growth Manifesto.\"'"
      ]
     },
     "execution_count": 24,
     "metadata": {},
     "output_type": "execute_result"
    }
   ],
   "source": [
    "result['answer']"
   ]
  }
 ],
 "metadata": {
  "kernelspec": {
   "display_name": "Mimic-1",
   "language": "python",
   "name": "mimic-1"
  },
  "language_info": {
   "codemirror_mode": {
    "name": "ipython",
    "version": 3
   },
   "file_extension": ".py",
   "mimetype": "text/x-python",
   "name": "python",
   "nbconvert_exporter": "python",
   "pygments_lexer": "ipython3",
   "version": "3.10.12"
  }
 },
 "nbformat": 4,
 "nbformat_minor": 5
}
