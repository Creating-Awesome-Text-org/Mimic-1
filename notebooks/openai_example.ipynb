{
 "cells": [
  {
   "cell_type": "code",
   "execution_count": 1,
   "id": "f0168853",
   "metadata": {},
   "outputs": [],
   "source": [
    "import os\n",
    "\n",
    "from langchain.llms import OpenAI\n",
    "from langchain import PromptTemplate, LLMChain"
   ]
  },
  {
   "cell_type": "markdown",
   "id": "cfd9d11a",
   "metadata": {},
   "source": [
    "## OpenAI API Key\n",
    "Use the below cell to set the OpenAI API key environment variable. \n",
    "Please ensure the key is never uploaded to GitHub."
   ]
  },
  {
   "cell_type": "code",
   "execution_count": 13,
   "id": "b0ee6543",
   "metadata": {},
   "outputs": [],
   "source": [
    "os.environ['OPENAI_API_KEY'] = 'KEY'"
   ]
  },
  {
   "cell_type": "markdown",
   "id": "5cec7b36",
   "metadata": {},
   "source": [
    "## Simple Example Using Da Vinci Model"
   ]
  },
  {
   "cell_type": "code",
   "execution_count": 14,
   "id": "0c7b3ad5",
   "metadata": {},
   "outputs": [],
   "source": [
    "davinci = OpenAI(model_name='text-davinci-003')"
   ]
  },
  {
   "cell_type": "markdown",
   "id": "3c8a9fca",
   "metadata": {},
   "source": [
    "### Create a Question Prompt"
   ]
  },
  {
   "cell_type": "code",
   "execution_count": 15,
   "id": "6eeaf663",
   "metadata": {},
   "outputs": [],
   "source": [
    "template = \"\"\"Question: {question}\n",
    "\n",
    "Answer: \"\"\"\n",
    "prompt = PromptTemplate(\n",
    "        template=template,\n",
    "    input_variables=['question']\n",
    ")\n",
    "\n",
    "question = \"Which NFL team won the Super Bowl in the 2010 season?\""
   ]
  },
  {
   "cell_type": "code",
   "execution_count": 11,
   "id": "338776aa",
   "metadata": {},
   "outputs": [],
   "source": [
    "llm_chain = LLMChain(\n",
    "    prompt=prompt,\n",
    "    llm=davinci\n",
    ")"
   ]
  },
  {
   "cell_type": "code",
   "execution_count": 12,
   "id": "340b3126",
   "metadata": {},
   "outputs": [
    {
     "name": "stdout",
     "output_type": "stream",
     "text": [
      " The Green Bay Packers won the Super Bowl in the 2010 season.\n"
     ]
    }
   ],
   "source": [
    "print(llm_chain.run(question))"
   ]
  }
 ],
 "metadata": {
  "kernelspec": {
   "display_name": "Mimic-1",
   "language": "python",
   "name": "mimic-1"
  },
  "language_info": {
   "codemirror_mode": {
    "name": "ipython",
    "version": 3
   },
   "file_extension": ".py",
   "mimetype": "text/x-python",
   "name": "python",
   "nbconvert_exporter": "python",
   "pygments_lexer": "ipython3",
   "version": "3.10.12"
  }
 },
 "nbformat": 4,
 "nbformat_minor": 5
}
